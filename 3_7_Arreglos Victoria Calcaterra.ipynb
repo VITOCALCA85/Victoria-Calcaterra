{
  "cells": [
    {
      "cell_type": "code",
      "execution_count": null,
      "metadata": {},
      "outputs": [],
      "source": [
        "# Desafío 2: Ordenar el inventario de libros\n",
        "\n",
        "Como encargado de la biblioteca, necesitas organizar los libros de acuerdo con sus códigos de identificación en orden decreciente, sin modificar la lista original. Se recomienda usar la función sorted(). ¿Por qué es importante no modificar la lista original? ¿Por qué no puedo usar el método sort sobre la lista original?\n",
        "\n",
        "Necesito organizar los libros con sus códigos de identificación en orden decreciente, sin cambiar la lista original.Utilizar la función `sorted()`.\n",
        "\n",
        "Lista original de códigos\n",
        "\n",
        "códigos = [122, 544, 176, 338, 233]\n",
        "\n",
        "Hacer una lista con los códigos ordenados en orden decreciente\n",
        "\n",
        "códigos_ordenados = sorted(códigos, reverse=True)\n",
        "\n",
        "Mostrar los resultados\n",
        "\n",
        "print(\"Lista original:\", códigos)\n",
        "\n",
        "print(\"Lista ordenada (decreciente):\", códigos_ordenados)\n"
      ]
    },
    {
      "cell_type": "markdown",
      "metadata": {},
      "source": [
        "¿Por qué es importante no modificar la lista original?\n",
        "\n",
        "Para usar los códigos que ya tenía, sin tener que cambiarlos.\n",
        "\n",
        "¿Por qué no puedo usar el método sort sobre la lista original?\n",
        "\n",
        "Si uso el método sort() estaría cambiando la lista original, entonces debo usar sorted() así me da una lista ordenada de nuevo, en este caso de forma decreciente, sin cambiar la original."
      ]
    },
    {
      "cell_type": "code",
      "execution_count": null,
      "metadata": {},
      "outputs": [],
      "source": [
        "\n",
        "# Desafío 4: Control de notas de estudiantes\n",
        "Como profesor, necesitas manejar las notas de tus estudiantes. Permite ingresar todas las notas de los estudiantes y realiza varias operaciones con esos datos.\n",
        "\n",
        "**Pregunta 1: Calcula el promedio de las notas de la clase. ¿Cómo lo harías?**\n",
        "\n",
        "**Pregunta 2: Encuentra la nota más baja y la más alta. ¿Cómo lo harías?**\n",
        "\n",
        "\n",
        "Pregunta 1: Calcula el promedio de las notas de la clase.¿Cómo lo harías?\n",
        "\n",
        "Se hace una lista de las notas de la clase.\n",
        "\n",
        "notas= [6, 7, 7, 7, 7, 8]\n",
        "\n",
        "Calcular el promedio de las notas antes mencionadas. Acá uso las funciones sum y len, y la operación \"/\"\n",
        "\n",
        "promedio= sum(notas) / len(notas)\n",
        "\n",
        "Finalmente se va a mostrar el resultado de promedios obtenidos. Acá uso print para mostrar el resultado con el promedio.\n",
        "\n",
        "print(f\"El promedio de la clase es: {promedio:.2f}\")\n"
      ]
    },
    {
      "cell_type": "markdown",
      "metadata": {},
      "source": [
        "Promedio= 7"
      ]
    },
    {
      "cell_type": "code",
      "execution_count": null,
      "metadata": {},
      "outputs": [],
      "source": [
        "Pregunta 2:Encuentra la nota más baja y la más alta. ¿Cómo lo harías?\n",
        "\n",
        "En base a la lista de notas antes presentada, encuentra la nota más baja y la más alta.\n",
        "\n",
        "Se hace la lista de notas como en la pregunta anterior.\n",
        "\n",
        "notas= [6, 7, 7, 7, 7, 8]\n",
        "\n",
        "Debemos encontrar la nota más baja y la más alta, se toma el ejemplo de las ventas mensuales en el material.\n",
        "\n",
        "nota_baja = notas.index(min(notas)) + 1\n",
        "nota_alta = notas.index(max(notas)) + 1\n",
        "\n",
        "Finalmente se muestran los resultados.\n",
        "\n",
        "print(f\"nota_baja: {nota_baja} ({min(notas)} unidades)\")\n",
        "print(f\"nota_alta: {nota_alta} ({max(notas)} unidades)\")"
      ]
    },
    {
      "cell_type": "markdown",
      "metadata": {},
      "source": [
        "Nota más baja: 6\n",
        "\n",
        "Nota más alta: 8"
      ]
    }
  ],
  "metadata": {
    "colab": {
      "include_colab_link": true,
      "provenance": [],
      "toc_visible": true
    },
    "kernelspec": {
      "display_name": "Python 3",
      "name": "python3"
    },
    "language_info": {
      "codemirror_mode": {
        "name": "ipython",
        "version": 3
      },
      "file_extension": ".py",
      "mimetype": "text/x-python",
      "name": "python",
      "nbconvert_exporter": "python",
      "pygments_lexer": "ipython3",
      "version": "3.11.1"
    }
  },
  "nbformat": 4,
  "nbformat_minor": 0
}
