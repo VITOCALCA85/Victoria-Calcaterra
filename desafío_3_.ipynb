{
  "nbformat": 4,
  "nbformat_minor": 0,
  "metadata": {
    "colab": {
      "provenance": [],
      "authorship_tag": "ABX9TyN6RGsuzyTFRWIAvbe9xmEb",
      "include_colab_link": true
    },
    "kernelspec": {
      "name": "python3",
      "display_name": "Python 3"
    },
    "language_info": {
      "name": "python"
    }
  },
  "cells": [
    {
      "cell_type": "markdown",
      "metadata": {
        "id": "view-in-github",
        "colab_type": "text"
      },
      "source": [
        "<a href=\"https://colab.research.google.com/github/VITOCALCA85/Victoria-Calcaterra/blob/main/desaf%C3%ADo_3_.ipynb\" target=\"_parent\"><img src=\"https://colab.research.google.com/assets/colab-badge.svg\" alt=\"Open In Colab\"/></a>"
      ]
    },
    {
      "cell_type": "code",
      "source": [
        "# Desafio 3: Convertidor de temperaturas\n",
        "# Convertir una temperatura dada en grados Celsius a grados Fahrenheit y a Kelvin, utilizando operaciones directas sobre variables.\n",
        "\n",
        "# Temperatura en Celsius\n",
        "# Usé el dato `float` para permitir decimales.\n",
        "celsius = float(input(\"Ingresa la temperatura en grados Celsius: \"))\n",
        "\n",
        "# Conversión a Fahrenheit\n",
        "# Usé operaciones de multiplicación `*` y de suma `+`.\n",
        "fahrenheit = (celsius * 1.8) + 32\n",
        "\n",
        "# Conversión a Kelvin\n",
        "# Usé operadores de suma `+`.\n",
        "kelvin = celsius + 273.15\n",
        "\n",
        "# Mostrar resultados\n",
        "# Validé que el valor ingresado es un número y quizás podría haber ingresado una letra o un número negativo, lo cual me habría dado un error.\n",
        "print(f\"{celsius}°C equivalen a {fahrenheit}°F\")\n",
        "print(f\"{celsius}°C equivalen a {kelvin}K\")"
      ],
      "metadata": {
        "id": "Kt3-S-PzGCzh"
      },
      "execution_count": null,
      "outputs": []
    },
    {
      "cell_type": "markdown",
      "source": [
        "Si la temperatura en celsius fuera de 15 por ejemplo, la conversión en fahrenheit sería de 59.\n",
        "**15°C = 59°F**\n",
        "\n",
        "Continuando con la conversión, esos 15 celsius equivaldrían a 288,15.\n",
        "**15°C= 288,15°K**\n",
        "\n",
        "[Webgrafía utilizada ](https://)https://www.bing.com/ck/a?!&&p=c4a2cd29b372d0f705d7666272de8e0fc3078910118c409da233e886bc854ecfJmltdHM9MTc0NTcxMjAwMA&ptn=3&ver=2&hsh=4&fclid=34069fcf-4cb1-6f40-20f1-8a7e4dba6e72&psq=convertir+celsius+a+fahrenheit&u=a1aHR0cHM6Ly93d3cucmFwaWR0YWJsZXMub3JnL2NvbnZlcnQvdGVtcGVyYXR1cmUvY2Vsc2l1cy10by1mYWhyZW5oZWl0Lmh0bWw&ntb=1\n"
      ],
      "metadata": {
        "id": "QQzE49SxZUBt"
      }
    },
    {
      "cell_type": "markdown",
      "source": [
        "https://github.com/VITOCALCA85/Victoria-Calcaterra"
      ],
      "metadata": {
        "id": "p93b96gGsEOm"
      }
    }
  ]
}