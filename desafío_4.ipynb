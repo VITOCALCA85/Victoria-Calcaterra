{
  "nbformat": 4,
  "nbformat_minor": 0,
  "metadata": {
    "colab": {
      "provenance": [],
      "authorship_tag": "ABX9TyPjKYLVLrhSPVYlA6uyrwLo",
      "include_colab_link": true
    },
    "kernelspec": {
      "name": "python3",
      "display_name": "Python 3"
    },
    "language_info": {
      "name": "python"
    }
  },
  "cells": [
    {
      "cell_type": "markdown",
      "metadata": {
        "id": "view-in-github",
        "colab_type": "text"
      },
      "source": [
        "<a href=\"https://colab.research.google.com/github/VITOCALCA85/Victoria-Calcaterra/blob/main/desaf%C3%ADo_4.ipynb\" target=\"_parent\"><img src=\"https://colab.research.google.com/assets/colab-badge.svg\" alt=\"Open In Colab\"/></a>"
      ]
    },
    {
      "cell_type": "code",
      "execution_count": null,
      "metadata": {
        "id": "VBp_7HzyfcFI"
      },
      "outputs": [],
      "source": [
        "#  Desafío 4: Verificar múltiplos de varios números\n",
        "# Crear un programa que, dado un número, verifique si es múltiplo de: 2, 3, 5, 7, 9, 10 y 11. Imprimir un mensaje por cada verificación.\n",
        "\n",
        "# Pedir al usuario un número\n",
        "# Usé el dato `int` para el número ingresado.\n",
        "número = int(input(\"Ingresá un número entero: \"))\n",
        "\n",
        "\n",
        "# Lista de divisores\n",
        "# Usé el dato `list` para los divisores que cumplen o no cumplen con la condición.\n",
        "divisores = [2, 3, 5, 7, 9, 10, 11]\n",
        "\n",
        "# Verificar múltiplos\n",
        "# Usé el operador `%` para comprobar si un número es múltiplo de otro.\n",
        "  for divisor in divisores:\n",
        "\n",
        "# Mostrar resultados\n",
        "# Validé que el valor ingresado sea un número entero, y podría corroborar que el número no es negativo, porque no tendría resultado.\n",
        "  if numero % divisor == 0:\n",
        "  print(f\"{numero} es múltiplo de {divisor}.\")\n",
        "\n",
        "  else:\n",
        "  print(f\"{numero} NO es múltiplo de {divisor}.\")\n",
        "\n",
        "\n",
        "\n",
        "\n"
      ]
    },
    {
      "cell_type": "markdown",
      "source": [
        "El número entero que ingresé es 5\n",
        "\n",
        "**if= 5 es múltiplo de 5 y de 10**\n",
        "\n",
        "**else= 5 no es múltiplo de 2, 3, 7, 9 y 11**\n",
        "\n",
        "Webgrafía utilizada:(https://)https://www.bing.com/ck/a?!&&p=54805078d72ff088bcf2c8a4e87be13e595fc82ba7c837147b70457deb49bfa8JmltdHM9MTc0NTcxMjAwMA&ptn=3&ver=2&hsh=4&fclid=34069fcf-4cb1-6f40-20f1-8a7e4dba6e72&psq=es+multiplo+de&u=a1aHR0cHM6Ly9lZHUuZ2NmZ2xvYmFsLm9yZy9lcy9kaXZpc29yZXMteS1tdWx0aXBsb3MvcXVlLXNvbi1sb3MtbXVsdGlwbG9zLzEv&ntb=1\n",
        "\n",
        "https://www.bing.com/ck/a?!&&p=6bc8a9ab94b2bfca831c9fb26fd31f0c8432c54f28eccec874a5e3f067aeaf0fJmltdHM9MTc0NTcxMjAwMA&ptn=3&ver=2&hsh=4&fclid=34069fcf-4cb1-6f40-20f1-8a7e4dba6e72&u=a1L3ZpZGVvcy9yaXZlcnZpZXcvcmVsYXRlZHZpZGVvP3E9ZXMrbXVsdGlwbG8rZGUmbWlkPUE5RkMxMDY5RDRBMEVFNTU2QkMzQTlGQzEwNjlENEEwRUU1NTZCQzMmRk9STT1WSVJF&ntb=1\n",
        "\n",
        "\n",
        "\n"
      ],
      "metadata": {
        "id": "AKG6YHX7mtdy"
      }
    },
    {
      "cell_type": "markdown",
      "source": [],
      "metadata": {
        "id": "gP4Z1OU3o-io"
      }
    }
  ]
}